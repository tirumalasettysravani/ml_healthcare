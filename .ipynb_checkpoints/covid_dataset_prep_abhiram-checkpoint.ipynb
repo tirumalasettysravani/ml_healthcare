{
 "cells": [
  {
   "cell_type": "code",
   "execution_count": 1,
   "id": "differential-motion",
   "metadata": {},
   "outputs": [],
   "source": [
    "# please check the data folder for the dataset"
   ]
  },
  {
   "cell_type": "code",
   "execution_count": 1,
   "id": "apart-briefing",
   "metadata": {},
   "outputs": [],
   "source": [
    "import requests\n",
    "import pandas as pd\n",
    "import matplotlib.pyplot as plt\n",
    "import seaborn as sns\n",
    "import matplotlib\n",
    "import datetime\n",
    "import os\n",
    "import config\n"
   ]
  },
  {
   "cell_type": "code",
   "execution_count": 2,
   "id": "enormous-discount",
   "metadata": {},
   "outputs": [],
   "source": [
    "def get_data():\n",
    "    url = \"https://corona-virus-world-and-india-data.p.rapidapi.com/api_india\"\n",
    "    \n",
    "    api_key = config.api_key\n",
    "    headers = {\n",
    "        'x-rapidapi-key': api_key,\n",
    "        'x-rapidapi-host': \"corona-virus-world-and-india-data.p.rapidapi.com\"\n",
    "        }\n",
    "\n",
    "    response = requests.request(\"GET\", url, headers=headers)\n",
    "\n",
    "    response = response.json()\n",
    "    \n",
    "    return response"
   ]
  },
  {
   "cell_type": "code",
   "execution_count": null,
   "id": "oriental-graham",
   "metadata": {},
   "outputs": [],
   "source": []
  },
  {
   "cell_type": "code",
   "execution_count": 3,
   "id": "innocent-princeton",
   "metadata": {},
   "outputs": [],
   "source": [
    "states = [\"Andhra Pradesh\", \"Arunachal Pradesh\", \"Assam\", \"Bihar\", \"Chhattisgarh\",\"Gujarat\", \"Haryana\", \"Himachal Pradesh\",\n",
    "\"Jharkhand\", \"Karnataka\", \"Kerala\",\n",
    "\"Madhya Pradesh\",\n",
    "\"Maharashtra\",\n",
    "\"Manipur\",\n",
    "\"Meghalaya\",\n",
    "\"Mizoram\",\n",
    "\"Nagaland\",\n",
    "\"Odisha\",\n",
    "\"Punjab\",\n",
    "\"Rajasthan\",\n",
    "\"Sikkim\",\n",
    "\"Tamil Nadu\",\n",
    "\"Telangana\",\n",
    "\"Tripura\",\n",
    "\"Uttar Pradesh\",\n",
    "\"Uttarakhand\",\n",
    "\"West Bengal\"]\n"
   ]
  },
  {
   "cell_type": "code",
   "execution_count": 4,
   "id": "baking-coaching",
   "metadata": {},
   "outputs": [],
   "source": [
    "\n",
    "def preprocess_data(response):\n",
    "\n",
    "    data = []\n",
    "    state_data = {}\n",
    "    total_states = []\n",
    "    district_state_wise = []\n",
    "    updated_time = []\n",
    "\n",
    "    for state in states:\n",
    "        districts = response['state_wise'][state]['district']\n",
    "\n",
    "        for district_name, district_data in districts.items():\n",
    "            state_data[state] = [district_name]\n",
    "            total_states.append(state)\n",
    "            district_state_wise.append(district_name)\n",
    "\n",
    "            active_cases = district_data['active']\n",
    "            confirmed_cases = district_data['confirmed']\n",
    "            deceased_cases = district_data['deceased']\n",
    "            recovered_cases = district_data['recovered']\n",
    "            data.append([active_cases, confirmed_cases, deceased_cases, recovered_cases])\n",
    "            updated_time.append(response['state_wise'][state]['lastupdatedtime'])\n",
    "\n",
    "        if state_data[state]:\n",
    "            state_data[state] = district_state_wise\n",
    "        \n",
    "    return data, state_data, total_states, district_state_wise, updated_time\n",
    "\n",
    "\n",
    "def create_dataframe(response):\n",
    "    \n",
    "    data, state_data, total_states, district_state_wise, updated_time = preprocess_data(response)\n",
    "    \n",
    "    df = pd.DataFrame(data, columns=['active', 'confirmed', 'deceased', 'recovered'])\n",
    "    df.insert(0, \"states\", total_states)\n",
    "    df.insert(1, \"districts\", district_state_wise)\n",
    "    df.insert(6, 'last_updated', updated_time)\n",
    "    \n",
    "    df['last_updated'] = df['last_updated'].str.split(\" \")[0][0]\n",
    "    df['last_updated'] = pd.to_datetime(df['last_updated'], format='%d/%m/%Y')\n",
    "    \n",
    "    return df\n",
    "    "
   ]
  },
  {
   "cell_type": "code",
   "execution_count": 5,
   "id": "random-harassment",
   "metadata": {},
   "outputs": [],
   "source": [
    "response = get_data()\n",
    "dataset = create_dataframe(response)"
   ]
  },
  {
   "cell_type": "code",
   "execution_count": null,
   "id": "psychological-kelly",
   "metadata": {},
   "outputs": [],
   "source": []
  },
  {
   "cell_type": "code",
   "execution_count": 6,
   "id": "prepared-serial",
   "metadata": {},
   "outputs": [
    {
     "data": {
      "text/html": [
       "<div>\n",
       "<style scoped>\n",
       "    .dataframe tbody tr th:only-of-type {\n",
       "        vertical-align: middle;\n",
       "    }\n",
       "\n",
       "    .dataframe tbody tr th {\n",
       "        vertical-align: top;\n",
       "    }\n",
       "\n",
       "    .dataframe thead th {\n",
       "        text-align: right;\n",
       "    }\n",
       "</style>\n",
       "<table border=\"1\" class=\"dataframe\">\n",
       "  <thead>\n",
       "    <tr style=\"text-align: right;\">\n",
       "      <th></th>\n",
       "      <th>states</th>\n",
       "      <th>districts</th>\n",
       "      <th>active</th>\n",
       "      <th>confirmed</th>\n",
       "      <th>deceased</th>\n",
       "      <th>recovered</th>\n",
       "      <th>last_updated</th>\n",
       "    </tr>\n",
       "  </thead>\n",
       "  <tbody>\n",
       "    <tr>\n",
       "      <th>0</th>\n",
       "      <td>Andhra Pradesh</td>\n",
       "      <td>Foreign Evacuees</td>\n",
       "      <td>0</td>\n",
       "      <td>434</td>\n",
       "      <td>0</td>\n",
       "      <td>434</td>\n",
       "      <td>2021-02-16</td>\n",
       "    </tr>\n",
       "    <tr>\n",
       "      <th>1</th>\n",
       "      <td>Andhra Pradesh</td>\n",
       "      <td>Anantapur</td>\n",
       "      <td>21</td>\n",
       "      <td>67698</td>\n",
       "      <td>599</td>\n",
       "      <td>67078</td>\n",
       "      <td>2021-02-16</td>\n",
       "    </tr>\n",
       "    <tr>\n",
       "      <th>2</th>\n",
       "      <td>Andhra Pradesh</td>\n",
       "      <td>Chittoor</td>\n",
       "      <td>97</td>\n",
       "      <td>87229</td>\n",
       "      <td>847</td>\n",
       "      <td>86285</td>\n",
       "      <td>2021-02-16</td>\n",
       "    </tr>\n",
       "    <tr>\n",
       "      <th>3</th>\n",
       "      <td>Andhra Pradesh</td>\n",
       "      <td>East Godavari</td>\n",
       "      <td>77</td>\n",
       "      <td>124369</td>\n",
       "      <td>636</td>\n",
       "      <td>123656</td>\n",
       "      <td>2021-02-16</td>\n",
       "    </tr>\n",
       "    <tr>\n",
       "      <th>4</th>\n",
       "      <td>Andhra Pradesh</td>\n",
       "      <td>Guntur</td>\n",
       "      <td>43</td>\n",
       "      <td>75627</td>\n",
       "      <td>671</td>\n",
       "      <td>74913</td>\n",
       "      <td>2021-02-16</td>\n",
       "    </tr>\n",
       "  </tbody>\n",
       "</table>\n",
       "</div>"
      ],
      "text/plain": [
       "           states         districts  active  confirmed  deceased  recovered  \\\n",
       "0  Andhra Pradesh  Foreign Evacuees       0        434         0        434   \n",
       "1  Andhra Pradesh         Anantapur      21      67698       599      67078   \n",
       "2  Andhra Pradesh          Chittoor      97      87229       847      86285   \n",
       "3  Andhra Pradesh     East Godavari      77     124369       636     123656   \n",
       "4  Andhra Pradesh            Guntur      43      75627       671      74913   \n",
       "\n",
       "  last_updated  \n",
       "0   2021-02-16  \n",
       "1   2021-02-16  \n",
       "2   2021-02-16  \n",
       "3   2021-02-16  \n",
       "4   2021-02-16  "
      ]
     },
     "execution_count": 6,
     "metadata": {},
     "output_type": "execute_result"
    }
   ],
   "source": [
    "dataset.head()"
   ]
  },
  {
   "cell_type": "code",
   "execution_count": 7,
   "id": "amateur-pixel",
   "metadata": {},
   "outputs": [
    {
     "name": "stdout",
     "output_type": "stream",
     "text": [
      "<class 'pandas.core.frame.DataFrame'>\n",
      "RangeIndex: 717 entries, 0 to 716\n",
      "Data columns (total 7 columns):\n",
      " #   Column        Non-Null Count  Dtype         \n",
      "---  ------        --------------  -----         \n",
      " 0   states        717 non-null    object        \n",
      " 1   districts     717 non-null    object        \n",
      " 2   active        717 non-null    int64         \n",
      " 3   confirmed     717 non-null    int64         \n",
      " 4   deceased      717 non-null    int64         \n",
      " 5   recovered     717 non-null    int64         \n",
      " 6   last_updated  717 non-null    datetime64[ns]\n",
      "dtypes: datetime64[ns](1), int64(4), object(2)\n",
      "memory usage: 39.3+ KB\n"
     ]
    }
   ],
   "source": [
    "dataset.info()"
   ]
  },
  {
   "cell_type": "code",
   "execution_count": 8,
   "id": "operational-devil",
   "metadata": {},
   "outputs": [
    {
     "data": {
      "text/plain": [
       "(717, 7)"
      ]
     },
     "execution_count": 8,
     "metadata": {},
     "output_type": "execute_result"
    }
   ],
   "source": [
    "dataset.shape"
   ]
  },
  {
   "cell_type": "code",
   "execution_count": null,
   "id": "approved-alarm",
   "metadata": {},
   "outputs": [],
   "source": [
    "df.to_csv('covid_district_wise_version_1.csv', index=False)"
   ]
  },
  {
   "cell_type": "code",
   "execution_count": null,
   "id": "small-fabric",
   "metadata": {},
   "outputs": [],
   "source": [
    "df_1 = pd.read_csv('covid_district_wise_version_1.csv')\n",
    "df_1.head()"
   ]
  },
  {
   "cell_type": "code",
   "execution_count": null,
   "id": "western-conducting",
   "metadata": {},
   "outputs": [],
   "source": []
  },
  {
   "cell_type": "code",
   "execution_count": null,
   "id": "requested-values",
   "metadata": {},
   "outputs": [],
   "source": []
  },
  {
   "cell_type": "markdown",
   "id": "designing-military",
   "metadata": {},
   "source": [
    "# Covid data based on dates"
   ]
  },
  {
   "cell_type": "code",
   "execution_count": 56,
   "id": "billion-nirvana",
   "metadata": {},
   "outputs": [],
   "source": [
    "import requests\n",
    "import pandas as pd\n",
    "import config\n",
    "\n",
    "def get_data_by_timeline():\n",
    "    url = \"https://corona-virus-world-and-india-data.p.rapidapi.com/api_india_timeline\"\n",
    "    \n",
    "    api_key = config.api_key\n",
    "    headers = {\n",
    "        'x-rapidapi-key': api_key,\n",
    "        'x-rapidapi-host': \"corona-virus-world-and-india-data.p.rapidapi.com\"\n",
    "        }\n",
    "\n",
    "    response = requests.request(\"GET\", url, headers=headers)\n",
    "\n",
    "    timeline_data = response.json()\n",
    "    return timeline_data\n",
    "\n",
    "\n",
    "def calculate_death_ratio(df):\n",
    "    if df[2] == 0:\n",
    "        return 0\n",
    "    else:\n",
    "        deceased_ratio = df[2]/(df[0] + df[1])\n",
    "        \n",
    "    return round(deceased_ratio, 3)\n",
    "\n",
    "\n",
    "def process_covid_by_timeline():\n",
    "    response = get_data_by_timeline()\n",
    "    dates = []\n",
    "    daily_confirmed = []\n",
    "    daily_deceased = []\n",
    "    daily_recovered = []\n",
    "\n",
    "    for count in range(len(response)):\n",
    "        dates.append(response[count]['dateymd'])\n",
    "        daily_confirmed.append(response[count]['dailyconfirmed'])\n",
    "        daily_deceased.append(response[count]['dailydeceased'])\n",
    "        daily_recovered.append(response[count]['dailyrecovered'])\n",
    "        \n",
    "    covid_dataset_by_dates = pd.DataFrame(list(zip(dates, daily_confirmed, daily_deceased, daily_recovered)), \n",
    "            columns=['dates', 'confirmed', 'deceased', 'recovered'])\n",
    "    \n",
    "    covid_dataset_by_dates['confirmed'] = covid_dataset_by_dates['confirmed'].astype('int')\n",
    "    covid_dataset_by_dates['deceased'] = covid_dataset_by_dates['deceased'].astype('int')\n",
    "    covid_dataset_by_dates['recovered'] = covid_dataset_by_dates['recovered'].astype('int')\n",
    "        \n",
    "    covid_dataset_by_dates['dates'] = pd.to_datetime(covid_dataset_by_dates['dates'], format='%Y-%m-%d')\n",
    "    \n",
    "    covid_dataset_by_dates['death_ratio'] = covid_dataset_by_dates[['confirmed', 'recovered', 'deceased']].apply(calculate_death_ratio, axis=1)    \n",
    "    \n",
    "    return covid_dataset_by_dates\n",
    "\n"
   ]
  },
  {
   "cell_type": "code",
   "execution_count": 57,
   "id": "textile-toddler",
   "metadata": {},
   "outputs": [],
   "source": [
    "covid_dataset_by_dates = process_covid_by_timeline()"
   ]
  },
  {
   "cell_type": "code",
   "execution_count": 29,
   "id": "greatest-thumb",
   "metadata": {},
   "outputs": [
    {
     "name": "stdout",
     "output_type": "stream",
     "text": [
      "<class 'pandas.core.frame.DataFrame'>\n",
      "RangeIndex: 384 entries, 0 to 383\n",
      "Data columns (total 5 columns):\n",
      " #   Column       Non-Null Count  Dtype         \n",
      "---  ------       --------------  -----         \n",
      " 0   dates        384 non-null    datetime64[ns]\n",
      " 1   confirmed    384 non-null    int32         \n",
      " 2   deceased     384 non-null    int32         \n",
      " 3   recovered    384 non-null    int32         \n",
      " 4   death_ratio  384 non-null    float64       \n",
      "dtypes: datetime64[ns](1), float64(1), int32(3)\n",
      "memory usage: 10.6 KB\n"
     ]
    }
   ],
   "source": [
    "covid_dataset_by_dates.info()"
   ]
  },
  {
   "cell_type": "code",
   "execution_count": 30,
   "id": "breeding-louisiana",
   "metadata": {},
   "outputs": [
    {
     "data": {
      "text/plain": [
       "dates          0\n",
       "confirmed      0\n",
       "deceased       0\n",
       "recovered      0\n",
       "death_ratio    0\n",
       "dtype: int64"
      ]
     },
     "execution_count": 30,
     "metadata": {},
     "output_type": "execute_result"
    }
   ],
   "source": [
    "covid_dataset_by_dates.isnull().sum()"
   ]
  },
  {
   "cell_type": "code",
   "execution_count": 31,
   "id": "ecological-mauritius",
   "metadata": {},
   "outputs": [
    {
     "data": {
      "text/plain": [
       "(384, 5)"
      ]
     },
     "execution_count": 31,
     "metadata": {},
     "output_type": "execute_result"
    }
   ],
   "source": [
    "covid_dataset_by_dates.shape"
   ]
  },
  {
   "cell_type": "code",
   "execution_count": null,
   "id": "elegant-delivery",
   "metadata": {},
   "outputs": [],
   "source": [
    "#we have to ignore month for now because the value remains the same for 2020 and 2021.\n",
    "\n",
    "#covid_dataset_by_dates['month'] = covid_dataset_by_dates['dates'].apply(lambda x: x.month)\n",
    "#covid_dataset_by_dates.head()"
   ]
  },
  {
   "cell_type": "code",
   "execution_count": null,
   "id": "interesting-moral",
   "metadata": {},
   "outputs": [],
   "source": []
  },
  {
   "cell_type": "code",
   "execution_count": null,
   "id": "forbidden-international",
   "metadata": {},
   "outputs": [],
   "source": [
    "covid_dataset_by_dates.to_csv(r'C:\\Users\\Abhiram Challapalli\\Desktop\\Ineuron Projects\\ml_healthcare\\Data\\covid_dataset_by_dates.csv')"
   ]
  },
  {
   "cell_type": "code",
   "execution_count": null,
   "id": "arbitrary-trader",
   "metadata": {},
   "outputs": [],
   "source": []
  },
  {
   "cell_type": "code",
   "execution_count": null,
   "id": "systematic-billy",
   "metadata": {},
   "outputs": [],
   "source": []
  },
  {
   "cell_type": "markdown",
   "id": "unauthorized-taste",
   "metadata": {},
   "source": [
    "## EDA"
   ]
  },
  {
   "cell_type": "code",
   "execution_count": null,
   "id": "correct-bradford",
   "metadata": {},
   "outputs": [],
   "source": [
    "dataset.head()"
   ]
  },
  {
   "cell_type": "code",
   "execution_count": 22,
   "id": "suspended-connectivity",
   "metadata": {},
   "outputs": [
    {
     "data": {
      "text/html": [
       "<div>\n",
       "<style scoped>\n",
       "    .dataframe tbody tr th:only-of-type {\n",
       "        vertical-align: middle;\n",
       "    }\n",
       "\n",
       "    .dataframe tbody tr th {\n",
       "        vertical-align: top;\n",
       "    }\n",
       "\n",
       "    .dataframe thead th {\n",
       "        text-align: right;\n",
       "    }\n",
       "</style>\n",
       "<table border=\"1\" class=\"dataframe\">\n",
       "  <thead>\n",
       "    <tr style=\"text-align: right;\">\n",
       "      <th></th>\n",
       "      <th>active</th>\n",
       "      <th>confirmed</th>\n",
       "      <th>deceased</th>\n",
       "      <th>recovered</th>\n",
       "    </tr>\n",
       "    <tr>\n",
       "      <th>states</th>\n",
       "      <th></th>\n",
       "      <th></th>\n",
       "      <th></th>\n",
       "      <th></th>\n",
       "    </tr>\n",
       "  </thead>\n",
       "  <tbody>\n",
       "    <tr>\n",
       "      <th>Andhra Pradesh</th>\n",
       "      <td>615</td>\n",
       "      <td>888959</td>\n",
       "      <td>7163</td>\n",
       "      <td>881181</td>\n",
       "    </tr>\n",
       "    <tr>\n",
       "      <th>Arunachal Pradesh</th>\n",
       "      <td>3</td>\n",
       "      <td>16833</td>\n",
       "      <td>56</td>\n",
       "      <td>16774</td>\n",
       "    </tr>\n",
       "    <tr>\n",
       "      <th>Assam</th>\n",
       "      <td>209</td>\n",
       "      <td>217309</td>\n",
       "      <td>1089</td>\n",
       "      <td>214615</td>\n",
       "    </tr>\n",
       "    <tr>\n",
       "      <th>Bihar</th>\n",
       "      <td>564</td>\n",
       "      <td>261841</td>\n",
       "      <td>1528</td>\n",
       "      <td>259748</td>\n",
       "    </tr>\n",
       "    <tr>\n",
       "      <th>Chhattisgarh</th>\n",
       "      <td>2905</td>\n",
       "      <td>309623</td>\n",
       "      <td>3783</td>\n",
       "      <td>302935</td>\n",
       "    </tr>\n",
       "    <tr>\n",
       "      <th>Gujarat</th>\n",
       "      <td>1699</td>\n",
       "      <td>265756</td>\n",
       "      <td>4402</td>\n",
       "      <td>259655</td>\n",
       "    </tr>\n",
       "    <tr>\n",
       "      <th>Haryana</th>\n",
       "      <td>819</td>\n",
       "      <td>269240</td>\n",
       "      <td>3040</td>\n",
       "      <td>265381</td>\n",
       "    </tr>\n",
       "    <tr>\n",
       "      <th>Himachal Pradesh</th>\n",
       "      <td>398</td>\n",
       "      <td>58243</td>\n",
       "      <td>981</td>\n",
       "      <td>56851</td>\n",
       "    </tr>\n",
       "    <tr>\n",
       "      <th>Jharkhand</th>\n",
       "      <td>460</td>\n",
       "      <td>119394</td>\n",
       "      <td>1084</td>\n",
       "      <td>117850</td>\n",
       "    </tr>\n",
       "    <tr>\n",
       "      <th>Karnataka</th>\n",
       "      <td>5860</td>\n",
       "      <td>946076</td>\n",
       "      <td>12273</td>\n",
       "      <td>927924</td>\n",
       "    </tr>\n",
       "    <tr>\n",
       "      <th>Kerala</th>\n",
       "      <td>60760</td>\n",
       "      <td>1011957</td>\n",
       "      <td>4017</td>\n",
       "      <td>946910</td>\n",
       "    </tr>\n",
       "    <tr>\n",
       "      <th>Madhya Pradesh</th>\n",
       "      <td>1856</td>\n",
       "      <td>258082</td>\n",
       "      <td>3841</td>\n",
       "      <td>252385</td>\n",
       "    </tr>\n",
       "    <tr>\n",
       "      <th>Maharashtra</th>\n",
       "      <td>37125</td>\n",
       "      <td>2071306</td>\n",
       "      <td>51591</td>\n",
       "      <td>1981408</td>\n",
       "    </tr>\n",
       "    <tr>\n",
       "      <th>Manipur</th>\n",
       "      <td>83</td>\n",
       "      <td>29213</td>\n",
       "      <td>373</td>\n",
       "      <td>28757</td>\n",
       "    </tr>\n",
       "    <tr>\n",
       "      <th>Meghalaya</th>\n",
       "      <td>100</td>\n",
       "      <td>13944</td>\n",
       "      <td>148</td>\n",
       "      <td>13696</td>\n",
       "    </tr>\n",
       "    <tr>\n",
       "      <th>Mizoram</th>\n",
       "      <td>17</td>\n",
       "      <td>4395</td>\n",
       "      <td>10</td>\n",
       "      <td>4368</td>\n",
       "    </tr>\n",
       "    <tr>\n",
       "      <th>Nagaland</th>\n",
       "      <td>41</td>\n",
       "      <td>12190</td>\n",
       "      <td>90</td>\n",
       "      <td>11908</td>\n",
       "    </tr>\n",
       "    <tr>\n",
       "      <th>Odisha</th>\n",
       "      <td>657</td>\n",
       "      <td>336322</td>\n",
       "      <td>1965</td>\n",
       "      <td>333700</td>\n",
       "    </tr>\n",
       "    <tr>\n",
       "      <th>Punjab</th>\n",
       "      <td>2401</td>\n",
       "      <td>176767</td>\n",
       "      <td>5712</td>\n",
       "      <td>168654</td>\n",
       "    </tr>\n",
       "    <tr>\n",
       "      <th>Rajasthan</th>\n",
       "      <td>1257</td>\n",
       "      <td>319065</td>\n",
       "      <td>2781</td>\n",
       "      <td>315027</td>\n",
       "    </tr>\n",
       "    <tr>\n",
       "      <th>Sikkim</th>\n",
       "      <td>56</td>\n",
       "      <td>6121</td>\n",
       "      <td>135</td>\n",
       "      <td>5834</td>\n",
       "    </tr>\n",
       "    <tr>\n",
       "      <th>Tamil Nadu</th>\n",
       "      <td>4206</td>\n",
       "      <td>846026</td>\n",
       "      <td>12432</td>\n",
       "      <td>829388</td>\n",
       "    </tr>\n",
       "    <tr>\n",
       "      <th>Telangana</th>\n",
       "      <td>1628</td>\n",
       "      <td>296795</td>\n",
       "      <td>1619</td>\n",
       "      <td>293548</td>\n",
       "    </tr>\n",
       "    <tr>\n",
       "      <th>Tripura</th>\n",
       "      <td>2</td>\n",
       "      <td>33350</td>\n",
       "      <td>388</td>\n",
       "      <td>32937</td>\n",
       "    </tr>\n",
       "    <tr>\n",
       "      <th>Uttar Pradesh</th>\n",
       "      <td>2862</td>\n",
       "      <td>602353</td>\n",
       "      <td>8704</td>\n",
       "      <td>590787</td>\n",
       "    </tr>\n",
       "    <tr>\n",
       "      <th>Uttarakhand</th>\n",
       "      <td>564</td>\n",
       "      <td>96920</td>\n",
       "      <td>1682</td>\n",
       "      <td>93256</td>\n",
       "    </tr>\n",
       "    <tr>\n",
       "      <th>West Bengal</th>\n",
       "      <td>3854</td>\n",
       "      <td>572879</td>\n",
       "      <td>10235</td>\n",
       "      <td>558790</td>\n",
       "    </tr>\n",
       "  </tbody>\n",
       "</table>\n",
       "</div>"
      ],
      "text/plain": [
       "                   active  confirmed  deceased  recovered\n",
       "states                                                   \n",
       "Andhra Pradesh        615     888959      7163     881181\n",
       "Arunachal Pradesh       3      16833        56      16774\n",
       "Assam                 209     217309      1089     214615\n",
       "Bihar                 564     261841      1528     259748\n",
       "Chhattisgarh         2905     309623      3783     302935\n",
       "Gujarat              1699     265756      4402     259655\n",
       "Haryana               819     269240      3040     265381\n",
       "Himachal Pradesh      398      58243       981      56851\n",
       "Jharkhand             460     119394      1084     117850\n",
       "Karnataka            5860     946076     12273     927924\n",
       "Kerala              60760    1011957      4017     946910\n",
       "Madhya Pradesh       1856     258082      3841     252385\n",
       "Maharashtra         37125    2071306     51591    1981408\n",
       "Manipur                83      29213       373      28757\n",
       "Meghalaya             100      13944       148      13696\n",
       "Mizoram                17       4395        10       4368\n",
       "Nagaland               41      12190        90      11908\n",
       "Odisha                657     336322      1965     333700\n",
       "Punjab               2401     176767      5712     168654\n",
       "Rajasthan            1257     319065      2781     315027\n",
       "Sikkim                 56       6121       135       5834\n",
       "Tamil Nadu           4206     846026     12432     829388\n",
       "Telangana            1628     296795      1619     293548\n",
       "Tripura                 2      33350       388      32937\n",
       "Uttar Pradesh        2862     602353      8704     590787\n",
       "Uttarakhand           564      96920      1682      93256\n",
       "West Bengal          3854     572879     10235     558790"
      ]
     },
     "execution_count": 22,
     "metadata": {},
     "output_type": "execute_result"
    }
   ],
   "source": [
    "by_state = pd.pivot_table(dataset, index='states', values=['active', 'confirmed', 'deceased', 'recovered'], aggfunc='sum')\n",
    "by_state"
   ]
  },
  {
   "cell_type": "code",
   "execution_count": 17,
   "id": "commercial-institution",
   "metadata": {},
   "outputs": [
    {
     "data": {
      "text/plain": [
       "(2, 2071306)"
      ]
     },
     "execution_count": 17,
     "metadata": {},
     "output_type": "execute_result"
    }
   ],
   "source": [
    "by_state['active'].min(), by_state['confirmed'].max()"
   ]
  },
  {
   "cell_type": "code",
   "execution_count": 23,
   "id": "legitimate-ready",
   "metadata": {},
   "outputs": [
    {
     "data": {
      "image/png": "[encoded data removed]",
      "text/plain": [
       "<Figure size 1080x576 with 1 Axes>"
      ]
     },
     "metadata": {
      "needs_background": "light"
     },
     "output_type": "display_data"
    }
   ],
   "source": [
    "plt.rcParams[\"figure.figsize\"] = [15, 8]\n",
    "by_state.reset_index().plot(x='states', y=['active', 'confirmed', 'deceased', 'recovered'],kind='bar')\n",
    "plt.title(\"Corona stats by state\")\n",
    "#plt.ylim(2,2071306)\n",
    "plt.show()"
   ]
  },
  {
   "cell_type": "code",
   "execution_count": 24,
   "id": "exempt-ecology",
   "metadata": {},
   "outputs": [
    {
     "data": {
      "image/png": "[encoded data removed]",
      "text/plain": [
       "<Figure size 720x576 with 1 Axes>"
      ]
     },
     "metadata": {
      "needs_background": "light"
     },
     "output_type": "display_data"
    }
   ],
   "source": [
    "dates = matplotlib.dates.date2num(covid_dataset_by_dates['dates'])\n",
    "\n",
    "plt.figure(figsize=(10,8))\n",
    "plt.plot_date(dates, covid_dataset_by_dates['confirmed'], label='confirmed')\n",
    "plt.plot_date(dates, covid_dataset_by_dates['recovered'], label='recovered')\n",
    "plt.plot_date(dates, covid_dataset_by_dates['deceased'], label='deceased')\n",
    "\n",
    "plt.legend()\n",
    "plt.show()"
   ]
  },
  {
   "cell_type": "code",
   "execution_count": 58,
   "id": "hybrid-laptop",
   "metadata": {},
   "outputs": [
    {
     "data": {
      "image/png": "[encoded data removed]",
      "text/plain": [
       "<Figure size 1080x576 with 1 Axes>"
      ]
     },
     "metadata": {
      "needs_background": "light"
     },
     "output_type": "display_data"
    }
   ],
   "source": [
    "#covid_dataset_by_dates['death_ratio'].plot()\n",
    "plt.plot_date(dates, covid_dataset_by_dates['death_ratio'])\n",
    "plt.title(\"Death toll over the years (%)\")\n",
    "plt.xlabel(\"Dates\")\n",
    "plt.ylabel(\"ratio\")\n",
    "plt.show()"
   ]
  },
  {
   "cell_type": "code",
   "execution_count": null,
   "id": "polish-chicken",
   "metadata": {},
   "outputs": [],
   "source": []
  },
  {
   "cell_type": "code",
   "execution_count": null,
   "id": "funded-sharing",
   "metadata": {},
   "outputs": [],
   "source": []
  },
  {
   "cell_type": "code",
   "execution_count": null,
   "id": "hundred-honor",
   "metadata": {},
   "outputs": [],
   "source": []
  },
  {
   "cell_type": "code",
   "execution_count": null,
   "id": "latin-messenger",
   "metadata": {},
   "outputs": [],
   "source": []
  },
  {
   "cell_type": "code",
   "execution_count": null,
   "id": "median-antenna",
   "metadata": {},
   "outputs": [],
   "source": []
  },
  {
   "cell_type": "code",
   "execution_count": null,
   "id": "french-davis",
   "metadata": {},
   "outputs": [],
   "source": []
  },
  {
   "cell_type": "code",
   "execution_count": null,
   "id": "quantitative-forge",
   "metadata": {},
   "outputs": [],
   "source": []
  },
  {
   "cell_type": "code",
   "execution_count": null,
   "id": "geographic-quality",
   "metadata": {},
   "outputs": [],
   "source": []
  },
  {
   "cell_type": "code",
   "execution_count": null,
   "id": "manufactured-mongolia",
   "metadata": {},
   "outputs": [],
   "source": []
  },
  {
   "cell_type": "markdown",
   "id": "sporting-digest",
   "metadata": {},
   "source": [
    "## Testing few things"
   ]
  },
  {
   "cell_type": "code",
   "execution_count": 26,
   "id": "completed-davis",
   "metadata": {},
   "outputs": [],
   "source": [
    "import requests\n",
    "\n",
    "url = \"https://coronavirus-map.p.rapidapi.com/v1/spots/week\"\n",
    "\n",
    "querystring = {\"region\":\"india\"}\n",
    "\n",
    "headers = {\n",
    "    'x-rapidapi-key': \"6b9a040689msh4c3e22ad300cc1fp19b019jsn8ea1698972ba\",\n",
    "    'x-rapidapi-host': \"coronavirus-map.p.rapidapi.com\"\n",
    "    }\n",
    "\n",
    "response = requests.request(\"GET\", url, headers=headers, params=querystring)\n",
    "response = response.json()"
   ]
  },
  {
   "cell_type": "code",
   "execution_count": 27,
   "id": "cardiac-kazakhstan",
   "metadata": {},
   "outputs": [
    {
     "data": {
      "text/plain": [
       "{'status': 200,\n",
       " 'type': 'stack',\n",
       " 'data': {'2021-02-17': {'total_cases': 10949546,\n",
       "   'deaths': 156038,\n",
       "   'recovered': 10654706,\n",
       "   'critical': 8944,\n",
       "   'tested': 207977229,\n",
       "   'death_ratio': 0.014250636510408742,\n",
       "   'recovery_ratio': 0.9730728561713883},\n",
       "  '2021-02-16': {'total_cases': 10937106,\n",
       "   'deaths': 155949,\n",
       "   'recovered': 10642903,\n",
       "   'critical': 8944,\n",
       "   'tested': 207332298,\n",
       "   'death_ratio': 0.014258707925112914,\n",
       "   'recovery_ratio': 0.9731004710021097},\n",
       "  '2021-02-15': {'total_cases': 10925208,\n",
       "   'deaths': 155836,\n",
       "   'recovered': 10630779,\n",
       "   'critical': 8944,\n",
       "   'tested': 206230512,\n",
       "   'death_ratio': 0.01426389319086648,\n",
       "   'recovery_ratio': 0.97305049020577},\n",
       "  '2021-02-14': {'total_cases': 10904940,\n",
       "   'deaths': 155673,\n",
       "   'recovered': 10611731,\n",
       "   'critical': 8944,\n",
       "   'tested': 206230512,\n",
       "   'death_ratio': 0.014275456811316705,\n",
       "   'recovery_ratio': 0.973112277554943},\n",
       "  '2021-02-13': {'total_cases': 10904738,\n",
       "   'deaths': 155673,\n",
       "   'recovered': 10609788,\n",
       "   'critical': 8944,\n",
       "   'tested': 205533398,\n",
       "   'death_ratio': 0.01427572125070772,\n",
       "   'recovery_ratio': 0.9729521241133899},\n",
       "  '2021-02-12': {'total_cases': 10892550,\n",
       "   'deaths': 155588,\n",
       "   'recovered': 10598709,\n",
       "   'critical': 8944,\n",
       "   'tested': 204789784,\n",
       "   'death_ratio': 0.014283891283491928,\n",
       "   'recovery_ratio': 0.9730236721428867},\n",
       "  '2021-02-11': {'total_cases': 10879826,\n",
       "   'deaths': 155476,\n",
       "   'recovered': 10586856,\n",
       "   'critical': 8944,\n",
       "   'tested': 204023840,\n",
       "   'death_ratio': 0.014290302069169121,\n",
       "   'recovery_ratio': 0.9730721796469907},\n",
       "  '2021-02-10': {'total_cases': 10871060,\n",
       "   'deaths': 155399,\n",
       "   'recovered': 10571629,\n",
       "   'critical': 8944,\n",
       "   'tested': 202587752,\n",
       "   'death_ratio': 0.014294742187054437,\n",
       "   'recovery_ratio': 0.9724561358322004}}}"
      ]
     },
     "execution_count": 27,
     "metadata": {},
     "output_type": "execute_result"
    }
   ],
   "source": [
    "response"
   ]
  },
  {
   "cell_type": "code",
   "execution_count": 24,
   "id": "confirmed-davis",
   "metadata": {},
   "outputs": [
    {
     "data": {
      "text/html": [
       "<div>\n",
       "<style scoped>\n",
       "    .dataframe tbody tr th:only-of-type {\n",
       "        vertical-align: middle;\n",
       "    }\n",
       "\n",
       "    .dataframe tbody tr th {\n",
       "        vertical-align: top;\n",
       "    }\n",
       "\n",
       "    .dataframe thead th {\n",
       "        text-align: right;\n",
       "    }\n",
       "</style>\n",
       "<table border=\"1\" class=\"dataframe\">\n",
       "  <thead>\n",
       "    <tr style=\"text-align: right;\">\n",
       "      <th></th>\n",
       "      <th>dates</th>\n",
       "      <th>confirmed</th>\n",
       "      <th>deceased</th>\n",
       "      <th>recovered</th>\n",
       "    </tr>\n",
       "  </thead>\n",
       "  <tbody>\n",
       "    <tr>\n",
       "      <th>0</th>\n",
       "      <td>2020-01-30</td>\n",
       "      <td>1</td>\n",
       "      <td>0</td>\n",
       "      <td>0</td>\n",
       "    </tr>\n",
       "    <tr>\n",
       "      <th>1</th>\n",
       "      <td>2020-01-31</td>\n",
       "      <td>0</td>\n",
       "      <td>0</td>\n",
       "      <td>0</td>\n",
       "    </tr>\n",
       "    <tr>\n",
       "      <th>2</th>\n",
       "      <td>2020-02-01</td>\n",
       "      <td>0</td>\n",
       "      <td>0</td>\n",
       "      <td>0</td>\n",
       "    </tr>\n",
       "    <tr>\n",
       "      <th>3</th>\n",
       "      <td>2020-02-02</td>\n",
       "      <td>1</td>\n",
       "      <td>0</td>\n",
       "      <td>0</td>\n",
       "    </tr>\n",
       "    <tr>\n",
       "      <th>4</th>\n",
       "      <td>2020-02-03</td>\n",
       "      <td>1</td>\n",
       "      <td>0</td>\n",
       "      <td>0</td>\n",
       "    </tr>\n",
       "    <tr>\n",
       "      <th>...</th>\n",
       "      <td>...</td>\n",
       "      <td>...</td>\n",
       "      <td>...</td>\n",
       "      <td>...</td>\n",
       "    </tr>\n",
       "    <tr>\n",
       "      <th>379</th>\n",
       "      <td>2021-02-12</td>\n",
       "      <td>12137</td>\n",
       "      <td>104</td>\n",
       "      <td>11358</td>\n",
       "    </tr>\n",
       "    <tr>\n",
       "      <th>380</th>\n",
       "      <td>2021-02-13</td>\n",
       "      <td>12191</td>\n",
       "      <td>89</td>\n",
       "      <td>11107</td>\n",
       "    </tr>\n",
       "    <tr>\n",
       "      <th>381</th>\n",
       "      <td>2021-02-14</td>\n",
       "      <td>11706</td>\n",
       "      <td>91</td>\n",
       "      <td>9500</td>\n",
       "    </tr>\n",
       "    <tr>\n",
       "      <th>382</th>\n",
       "      <td>2021-02-15</td>\n",
       "      <td>9086</td>\n",
       "      <td>82</td>\n",
       "      <td>11793</td>\n",
       "    </tr>\n",
       "    <tr>\n",
       "      <th>383</th>\n",
       "      <td>2021-02-16</td>\n",
       "      <td>11573</td>\n",
       "      <td>99</td>\n",
       "      <td>11794</td>\n",
       "    </tr>\n",
       "  </tbody>\n",
       "</table>\n",
       "<p>384 rows × 4 columns</p>\n",
       "</div>"
      ],
      "text/plain": [
       "         dates  confirmed  deceased  recovered\n",
       "0   2020-01-30          1         0          0\n",
       "1   2020-01-31          0         0          0\n",
       "2   2020-02-01          0         0          0\n",
       "3   2020-02-02          1         0          0\n",
       "4   2020-02-03          1         0          0\n",
       "..         ...        ...       ...        ...\n",
       "379 2021-02-12      12137       104      11358\n",
       "380 2021-02-13      12191        89      11107\n",
       "381 2021-02-14      11706        91       9500\n",
       "382 2021-02-15       9086        82      11793\n",
       "383 2021-02-16      11573        99      11794\n",
       "\n",
       "[384 rows x 4 columns]"
      ]
     },
     "execution_count": 24,
     "metadata": {},
     "output_type": "execute_result"
    }
   ],
   "source": [
    "covid_dataset_by_dates"
   ]
  },
  {
   "cell_type": "code",
   "execution_count": null,
   "id": "blank-mount",
   "metadata": {},
   "outputs": [],
   "source": []
  },
  {
   "cell_type": "code",
   "execution_count": null,
   "id": "opening-feeding",
   "metadata": {},
   "outputs": [],
   "source": []
  },
  {
   "cell_type": "code",
   "execution_count": null,
   "id": "interpreted-danish",
   "metadata": {},
   "outputs": [],
   "source": []
  },
  {
   "cell_type": "code",
   "execution_count": null,
   "id": "hairy-drive",
   "metadata": {},
   "outputs": [],
   "source": []
  },
  {
   "cell_type": "code",
   "execution_count": null,
   "id": "exempt-breakdown",
   "metadata": {},
   "outputs": [],
   "source": []
  },
  {
   "cell_type": "code",
   "execution_count": null,
   "id": "smooth-specialist",
   "metadata": {},
   "outputs": [],
   "source": []
  },
  {
   "cell_type": "code",
   "execution_count": null,
   "id": "collaborative-placement",
   "metadata": {},
   "outputs": [],
   "source": []
  },
  {
   "cell_type": "code",
   "execution_count": null,
   "id": "sporting-rescue",
   "metadata": {},
   "outputs": [],
   "source": []
  },
  {
   "cell_type": "code",
   "execution_count": null,
   "id": "under-check",
   "metadata": {},
   "outputs": [],
   "source": []
  },
  {
   "cell_type": "code",
   "execution_count": null,
   "id": "based-israeli",
   "metadata": {},
   "outputs": [],
   "source": []
  },
  {
   "cell_type": "code",
   "execution_count": null,
   "id": "natural-lithuania",
   "metadata": {},
   "outputs": [],
   "source": []
  },
  {
   "cell_type": "code",
   "execution_count": null,
   "id": "tamil-airline",
   "metadata": {},
   "outputs": [],
   "source": []
  },
  {
   "cell_type": "code",
   "execution_count": null,
   "id": "refined-taylor",
   "metadata": {},
   "outputs": [],
   "source": []
  }
 ],
 "metadata": {
  "kernelspec": {
   "display_name": "Python 3",
   "language": "python",
   "name": "python3"
  },
  "language_info": {
   "codemirror_mode": {
    "name": "ipython",
    "version": 3
   },
   "file_extension": ".py",
   "mimetype": "text/x-python",
   "name": "python",
   "nbconvert_exporter": "python",
   "pygments_lexer": "ipython3",
   "version": "3.7.9"
  }
 },
 "nbformat": 4,
 "nbformat_minor": 5
}
